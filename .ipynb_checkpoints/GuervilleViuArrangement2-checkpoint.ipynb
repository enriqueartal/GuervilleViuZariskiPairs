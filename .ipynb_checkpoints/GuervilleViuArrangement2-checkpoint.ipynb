{
 "cells": [
  {
   "cell_type": "markdown",
   "id": "ebbba1e8-d399-486a-8f28-13277e2068c7",
   "metadata": {},
   "source": [
    "### Fundamental groups of combinatorially equivalente complexified real arrangements distinguished by their lower central series\n",
    "\n",
    "In a paper in <a href=\"https://link.springer.com/article/10.1007/s00208-018-1673-0\">Math. Ann.</a>, B. Guerville and J. Viu give families of line arrangements which define Zariski pairs distinguished by a link invariant (see also the <a href=\"https://arxiv.org/abs/1702.00922\"> <kbd>arXiv</kbd></a> version); moreover, a simple way to compute this linking invariant is given. In a subsequent paper in <a href=\"https://www.tandfonline.com/doi/abs/10.1080/10586458.2018.1428131\">Exp. Math.</a>, these authors together with E. Artal compute the fundamental groups for one of these pairs and prove they are not isomorphic (see also the <a href=\"https://arxiv.org/abs/1704.04152\"> <kbd>arXiv</kbd></a> version). This notebook explains the computations. \n",
    "\n",
    "This notebook uses a more direct approach than `GuervilleViuArrangement1.ipynb` which can be used for other cases.\n",
    "\n",
    "----\n",
    "\n",
    "We define the ring of polynomial and give the list of affine equations of the two arrangements in the $(x,y)$-plane (the line at infinity $z=0$ is included)."
   ]
  },
  {
   "cell_type": "code",
   "execution_count": 1,
   "id": "d9a709e1-6e5e-4709-a03e-6017c7bba409",
   "metadata": {},
   "outputs": [],
   "source": [
    "R.<x,y>=QQ[]\n",
    "eq1=[x + y + 1, x, y, x + y + 4/3, y + 4/3, -2*x + y + 2, y + 2, 2*x - 2, -x - 4/3, -1/5*x + 2/5*y - 2/5, 1/5*x + 2/5, 2/5*y - 2/5]\n",
    "eq2=[x + y + 1, x, y, x + y + 4/3, y + 4/3, -2*x + y + 2, y + 2, 2*x - 2, -x - 4/3, 1/3*x + 2/3*y + 2/9, -1/3*x - 2/9, 2/3*y + 2/9]"
   ]
  },
  {
   "cell_type": "markdown",
   "id": "0c9bfcc6-29c7-4630-9970-79a4b990bd7b",
   "metadata": {},
   "source": [
    "We define the two affine curves and compute the fundamental groups of the complements using the library\n",
    "<a href=\"https://doc.sagemath.org/html/en/reference/spkg/sirocco.html\"> <kbd>sirocco</kbd></a> \n",
    "instead of the real pictures."
   ]
  },
  {
   "cell_type": "code",
   "execution_count": 2,
   "id": "1f88c315-bb21-417d-8365-99dcb4c6c2a6",
   "metadata": {},
   "outputs": [],
   "source": [
    "C1=Curve(prod(eq1))\n",
    "C2=Curve(prod(eq2))"
   ]
  },
  {
   "cell_type": "code",
   "execution_count": 3,
   "id": "99a2bb7c-5197-4586-bf5b-5e81b4298023",
   "metadata": {},
   "outputs": [
    {
     "name": "stdout",
     "output_type": "stream",
     "text": [
      "CPU times: user 5.48 s, sys: 1.52 s, total: 7 s\n",
      "Wall time: 2min 56s\n"
     ]
    }
   ],
   "source": [
    "%%time\n",
    "g1=C1.fundamental_group()\n",
    "g2=C2.fundamental_group()"
   ]
  },
  {
   "cell_type": "markdown",
   "id": "8df19136-2c66-42c1-abf6-b5913399f5b4",
   "metadata": {},
   "source": [
    "With the help of the `GAP` package \n",
    "<a href=\"https://www.gap-system.org/Packages/nq.html\"> <kbd>nq</kbd></a> \n",
    "we compute the first terms of the graduate terms of \n",
    "the lower central series."
   ]
  },
  {
   "cell_type": "code",
   "execution_count": 4,
   "id": "d7ad327c-a9a7-4770-a7ef-aa00756247f5",
   "metadata": {},
   "outputs": [],
   "source": [
    "libgap.LoadPackage('nq')\n",
    "LCF = libgap.function_factory(\"LowerCentralFactors\")"
   ]
  },
  {
   "cell_type": "code",
   "execution_count": 5,
   "id": "c831350c-0f33-4361-9bc3-c30a5e81db87",
   "metadata": {},
   "outputs": [
    {
     "name": "stdout",
     "output_type": "stream",
     "text": [
      "CPU times: user 297 ms, sys: 42 ms, total: 339 ms\n",
      "Wall time: 10.3 s\n"
     ]
    }
   ],
   "source": [
    "%%time \n",
    "L1=libgap.LowerCentralFactors(g1,4).sage()\n",
    "L2=libgap.LowerCentralFactors(g2,4).sage()"
   ]
  },
  {
   "cell_type": "markdown",
   "id": "d1770fd5-77c3-4b90-8f8c-ddff1984eb8c",
   "metadata": {},
   "source": [
    "We check the minimal number of generators of these graduate terms."
   ]
  },
  {
   "cell_type": "code",
   "execution_count": 6,
   "id": "b7ee7356-723f-4887-bce8-53865b8e18b2",
   "metadata": {},
   "outputs": [
    {
     "name": "stdout",
     "output_type": "stream",
     "text": [
      "[12, 23, 76, 212]\n",
      "[12, 23, 76, 211]\n"
     ]
    }
   ],
   "source": [
    "print([len(_) for _ in L1])\n",
    "print([len(_) for _ in L2])"
   ]
  },
  {
   "cell_type": "markdown",
   "id": "35df1d03-8b84-4740-ad74-dae3ef3b8d01",
   "metadata": {},
   "source": [
    "These lists represent the rank and torsion of these abelian groups (the number of $0$'s'\n",
    "is the rank)."
   ]
  },
  {
   "cell_type": "code",
   "execution_count": 7,
   "id": "7b155a2f-933e-4e59-b2e4-b65633837ed7",
   "metadata": {},
   "outputs": [
    {
     "data": {
      "text/plain": [
       "([{0}, {0}, {0}, {0, 2}], [{0}, {0}, {0}, {0}])"
      ]
     },
     "execution_count": 7,
     "metadata": {},
     "output_type": "execute_result"
    }
   ],
   "source": [
    "[Set(_) for _ in L1],[Set(_) for _ in L2]"
   ]
  },
  {
   "cell_type": "code",
   "execution_count": 8,
   "id": "09a22bfd-2221-4e8c-81f5-0274a15548c4",
   "metadata": {},
   "outputs": [
    {
     "data": {
      "text/plain": [
       "1"
      ]
     },
     "execution_count": 8,
     "metadata": {},
     "output_type": "execute_result"
    }
   ],
   "source": [
    "L1[-1].count(2)"
   ]
  },
  {
   "cell_type": "markdown",
   "id": "f91ae2ee-fd15-4a1a-853f-c3dcb127aa73",
   "metadata": {},
   "source": [
    "Summarizing, if we denote by $G_i^j$ the elemens of the `LCS` of $G_i$, we have obtained that:\n",
    "\n",
    "- $G_1^1/G_1^2\\cong\\mathbb{Z}^{12}$, $\\qquad\\qquad\\quad$ $G_2^1/G_2^2\\cong\\mathbb{Z}^{12}$\n",
    "- $G_1^2/G_1^3\\cong\\mathbb{Z}^{23}$, $\\qquad\\qquad\\quad$ $G_2^2/G_2^3\\cong\\mathbb{Z}^{23}$\n",
    "- $G_1^3/G_1^4\\cong\\mathbb{Z}^{76}$, $\\qquad\\qquad\\quad$ $G_2^3/G_2^4\\cong\\mathbb{Z}^{76}$\n",
    "- $G_1^4/G_1^5\\cong\\mathbb{Z}^{211}\\oplus\\mathbb{Z}/2$,$\\qquad$ $G_2^4/G_2^5\\cong\\mathbb{Z}^{211}$"
   ]
  },
  {
   "cell_type": "code",
   "execution_count": null,
   "id": "d69758ac-af4b-45f1-b9dd-960d87951dee",
   "metadata": {},
   "outputs": [],
   "source": []
  }
 ],
 "metadata": {
  "kernelspec": {
   "display_name": "SageMath 9.6",
   "language": "sage",
   "name": "sagemath"
  },
  "language_info": {
   "codemirror_mode": {
    "name": "ipython",
    "version": 3
   },
   "file_extension": ".py",
   "mimetype": "text/x-python",
   "name": "python",
   "nbconvert_exporter": "python",
   "pygments_lexer": "ipython3",
   "version": "3.10.5"
  }
 },
 "nbformat": 4,
 "nbformat_minor": 5
}
