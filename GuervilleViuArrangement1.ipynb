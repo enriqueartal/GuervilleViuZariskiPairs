{
 "cells": [
  {
   "cell_type": "markdown",
   "metadata": {},
   "source": [
    "We introduce the needed functions."
   ]
  },
  {
   "cell_type": "code",
   "execution_count": 4,
   "metadata": {},
   "outputs": [],
   "source": [
    "load(\"https://raw.githubusercontent.com/enriqueartal/Miscellanous-SageFunctions/master/MonodromyGroupFunctions.sage\")\n",
    "libgap.LoadPackage('nq')\n",
    "LCF = libgap.function_factory(\"LowerCentralFactors\")"
   ]
  },
  {
   "cell_type": "markdown",
   "metadata": {},
   "source": [
    "From a combinatorial description, we compute a non-generic braid monodromies of the arrangements"
   ]
  },
  {
   "cell_type": "code",
   "execution_count": 7,
   "metadata": {
    "collapsed": false,
    "deletable": true,
    "editable": true,
    "jupyter": {
     "outputs_hidden": false
    }
   },
   "outputs": [
    {
     "data": {
      "text/plain": [
       "Braid group on 8 strands"
      ]
     },
     "execution_count": 7,
     "metadata": {},
     "output_type": "execute_result"
    }
   ],
   "source": [
    "B=BraidGroup(8)\n",
    "B"
   ]
  },
  {
   "cell_type": "code",
   "execution_count": 8,
   "metadata": {
    "deletable": true,
    "editable": true
   },
   "outputs": [],
   "source": [
    "cruces1=[[6],[5],[2],[1,4],[3],[2,4],[3],[1,5,7],[6],[4,5,4],[7],[3,6],[2],[1]]\n",
    "cruces2=[[2],[1,3],[4],[2],[1,3],[2,5,7],[6],[4,5,4],[7],[3],[2],[1,6],[4],[5]]\n",
    "vert1=3*[0]+[1,0,2,0,3]+3*[0]+[4]+2*[0]\n",
    "vert2=[0,1]+2*[0]+[2,3]+5*[0]+[4]+2*[0]\n",
    "mon1=[]\n",
    "ini=B.one()\n",
    "for l in cruces1:\n",
    "    a=B(l)\n",
    "    mon1.append(ini*a^2/ini)\n",
    "    ini=ini*a\n",
    "mon2=[]\n",
    "ini=B.one()\n",
    "for l in cruces2:\n",
    "    a=B(l)\n",
    "    mon2.append(ini*a^2/ini)\n",
    "    ini=ini*a"
   ]
  },
  {
   "cell_type": "markdown",
   "metadata": {},
   "source": [
    "Fundamental groups are computed"
   ]
  },
  {
   "cell_type": "code",
   "execution_count": 9,
   "metadata": {
    "deletable": true,
    "editable": true
   },
   "outputs": [],
   "source": [
    "F=FreeGroup(12)\n",
    "rlk1=[]\n",
    "aux=zip(mon1,vert1)\n",
    "for s,e in aux:\n",
    "    for p in F.gens()[:8]:\n",
    "        if e==0:\n",
    "            v=F.one()\n",
    "        else:\n",
    "            v=F.gen(7+e)\n",
    "        rlk1.append(v^-1*p*v/(p*s))\n",
    "rlk2=[]\n",
    "aux=zip(mon2,vert2)\n",
    "for s,e in aux:\n",
    "    for p in F.gens()[:8]:\n",
    "        if e==0:\n",
    "            v=F.one()\n",
    "        else:\n",
    "            v=F.gen(7+e)\n",
    "        rlk2.append(v^-1*p*v/(p*s))\n",
    "g1=(F/rlk1).simplified()\n",
    "g2=(F/rlk2).simplified()"
   ]
  },
  {
   "cell_type": "markdown",
   "metadata": {},
   "source": [
    "Compute the lower central series using `GAP`"
   ]
  },
  {
   "cell_type": "code",
   "execution_count": 20,
   "metadata": {
    "collapsed": false,
    "deletable": true,
    "editable": true,
    "jupyter": {
     "outputs_hidden": false
    }
   },
   "outputs": [
    {
     "name": "stdout",
     "output_type": "stream",
     "text": [
      "CPU times: user 175 ms, sys: 1.73 ms, total: 176 ms\n",
      "Wall time: 3.61 s\n",
      "CPU times: user 137 ms, sys: 0 ns, total: 137 ms\n",
      "Wall time: 3.48 s\n"
     ]
    }
   ],
   "source": [
    "%time L1=libgap.LowerCentralFactors(g1,4).sage()\n",
    "%time L2=libgap.LowerCentralFactors(g2,4).sage()"
   ]
  },
  {
   "cell_type": "markdown",
   "metadata": {},
   "source": [
    "Next cells allow to compute the first graduate terms"
   ]
  },
  {
   "cell_type": "code",
   "execution_count": 21,
   "metadata": {
    "collapsed": false,
    "deletable": true,
    "editable": true,
    "jupyter": {
     "outputs_hidden": false
    }
   },
   "outputs": [
    {
     "data": {
      "text/plain": [
       "([12, 23, 76, 212], [12, 23, 76, 211])"
      ]
     },
     "execution_count": 21,
     "metadata": {},
     "output_type": "execute_result"
    }
   ],
   "source": [
    "[len(_) for _ in L1],[len(_) for _ in L2]"
   ]
  },
  {
   "cell_type": "code",
   "execution_count": 22,
   "metadata": {},
   "outputs": [
    {
     "data": {
      "text/plain": [
       "([{0}, {0}, {0}, {0, 2}], [{0}, {0}, {0}, {0}])"
      ]
     },
     "execution_count": 22,
     "metadata": {},
     "output_type": "execute_result"
    }
   ],
   "source": [
    "[Set(_) for _ in L1],[Set(_) for _ in L2]"
   ]
  },
  {
   "cell_type": "code",
   "execution_count": 19,
   "metadata": {},
   "outputs": [
    {
     "data": {
      "text/plain": [
       "1"
      ]
     },
     "execution_count": 19,
     "metadata": {},
     "output_type": "execute_result"
    }
   ],
   "source": [
    "L1[-1].count(2)"
   ]
  }
 ],
 "metadata": {
  "kernelspec": {
   "display_name": "SageMath 9.0.beta3",
   "language": "sage",
   "name": "sagemath"
  },
  "language_info": {
   "codemirror_mode": {
    "name": "ipython",
    "version": 2
   },
   "file_extension": ".py",
   "mimetype": "text/x-python",
   "name": "python",
   "nbconvert_exporter": "python",
   "pygments_lexer": "ipython2",
   "version": "2.7.15"
  }
 },
 "nbformat": 4,
 "nbformat_minor": 4
}
